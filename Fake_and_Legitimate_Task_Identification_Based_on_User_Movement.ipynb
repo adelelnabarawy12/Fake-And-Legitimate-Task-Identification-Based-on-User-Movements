{
 "cells": [
  {
   "cell_type": "code",
   "execution_count": 1,
   "metadata": {},
   "outputs": [],
   "source": [
    "import pandas as pd\n",
    "import numpy as np\n",
    "import matplotlib.pyplot as plt\n",
    "from sklearn.model_selection import train_test_split\n",
    "from sklearn.metrics import accuracy_score, plot_confusion_matrix, classification_report, confusion_matrix\n",
    "from sklearn.ensemble import RandomForestClassifier, AdaBoostClassifier, VotingClassifier\n",
    "from sklearn.naive_bayes import MultinomialNB\n",
    "from sklearn.preprocessing import Normalizer\n",
    "from sklearn.base import clone\n",
    "import warnings \n",
    "warnings.filterwarnings('ignore')"
   ]
  },
  {
   "cell_type": "markdown",
   "metadata": {},
   "source": [
    "## Import And Data Exploration"
   ]
  },
  {
   "cell_type": "code",
   "execution_count": 2,
   "metadata": {},
   "outputs": [
    {
     "data": {
      "text/html": [
       "<div>\n",
       "<style scoped>\n",
       "    .dataframe tbody tr th:only-of-type {\n",
       "        vertical-align: middle;\n",
       "    }\n",
       "\n",
       "    .dataframe tbody tr th {\n",
       "        vertical-align: top;\n",
       "    }\n",
       "\n",
       "    .dataframe thead th {\n",
       "        text-align: right;\n",
       "    }\n",
       "</style>\n",
       "<table border=\"1\" class=\"dataframe\">\n",
       "  <thead>\n",
       "    <tr style=\"text-align: right;\">\n",
       "      <th></th>\n",
       "      <th>ID</th>\n",
       "      <th>Latitude</th>\n",
       "      <th>Longitude</th>\n",
       "      <th>Day</th>\n",
       "      <th>Hour</th>\n",
       "      <th>Minute</th>\n",
       "      <th>Duration</th>\n",
       "      <th>RemainingTime</th>\n",
       "      <th>Resources</th>\n",
       "      <th>Coverage</th>\n",
       "      <th>OnPeakHours</th>\n",
       "      <th>GridNumber</th>\n",
       "      <th>Ligitimacy</th>\n",
       "    </tr>\n",
       "  </thead>\n",
       "  <tbody>\n",
       "    <tr>\n",
       "      <th>0</th>\n",
       "      <td>1</td>\n",
       "      <td>45.442142</td>\n",
       "      <td>-75.303369</td>\n",
       "      <td>1</td>\n",
       "      <td>4</td>\n",
       "      <td>13</td>\n",
       "      <td>40</td>\n",
       "      <td>40</td>\n",
       "      <td>9</td>\n",
       "      <td>91</td>\n",
       "      <td>0</td>\n",
       "      <td>131380</td>\n",
       "      <td>1</td>\n",
       "    </tr>\n",
       "    <tr>\n",
       "      <th>1</th>\n",
       "      <td>1</td>\n",
       "      <td>45.442154</td>\n",
       "      <td>-75.304366</td>\n",
       "      <td>1</td>\n",
       "      <td>4</td>\n",
       "      <td>23</td>\n",
       "      <td>40</td>\n",
       "      <td>30</td>\n",
       "      <td>9</td>\n",
       "      <td>91</td>\n",
       "      <td>0</td>\n",
       "      <td>131380</td>\n",
       "      <td>1</td>\n",
       "    </tr>\n",
       "    <tr>\n",
       "      <th>2</th>\n",
       "      <td>1</td>\n",
       "      <td>45.442104</td>\n",
       "      <td>-75.303963</td>\n",
       "      <td>1</td>\n",
       "      <td>4</td>\n",
       "      <td>33</td>\n",
       "      <td>40</td>\n",
       "      <td>20</td>\n",
       "      <td>9</td>\n",
       "      <td>91</td>\n",
       "      <td>0</td>\n",
       "      <td>121996</td>\n",
       "      <td>1</td>\n",
       "    </tr>\n",
       "    <tr>\n",
       "      <th>3</th>\n",
       "      <td>1</td>\n",
       "      <td>45.441868</td>\n",
       "      <td>-75.303577</td>\n",
       "      <td>1</td>\n",
       "      <td>4</td>\n",
       "      <td>43</td>\n",
       "      <td>40</td>\n",
       "      <td>10</td>\n",
       "      <td>9</td>\n",
       "      <td>91</td>\n",
       "      <td>0</td>\n",
       "      <td>121996</td>\n",
       "      <td>1</td>\n",
       "    </tr>\n",
       "    <tr>\n",
       "      <th>4</th>\n",
       "      <td>2</td>\n",
       "      <td>45.447727</td>\n",
       "      <td>-75.147722</td>\n",
       "      <td>2</td>\n",
       "      <td>15</td>\n",
       "      <td>49</td>\n",
       "      <td>30</td>\n",
       "      <td>30</td>\n",
       "      <td>5</td>\n",
       "      <td>47</td>\n",
       "      <td>0</td>\n",
       "      <td>140784</td>\n",
       "      <td>1</td>\n",
       "    </tr>\n",
       "    <tr>\n",
       "      <th>...</th>\n",
       "      <td>...</td>\n",
       "      <td>...</td>\n",
       "      <td>...</td>\n",
       "      <td>...</td>\n",
       "      <td>...</td>\n",
       "      <td>...</td>\n",
       "      <td>...</td>\n",
       "      <td>...</td>\n",
       "      <td>...</td>\n",
       "      <td>...</td>\n",
       "      <td>...</td>\n",
       "      <td>...</td>\n",
       "      <td>...</td>\n",
       "    </tr>\n",
       "    <tr>\n",
       "      <th>14479</th>\n",
       "      <td>3999</td>\n",
       "      <td>45.445303</td>\n",
       "      <td>-75.165596</td>\n",
       "      <td>2</td>\n",
       "      <td>1</td>\n",
       "      <td>18</td>\n",
       "      <td>20</td>\n",
       "      <td>20</td>\n",
       "      <td>10</td>\n",
       "      <td>80</td>\n",
       "      <td>0</td>\n",
       "      <td>131397</td>\n",
       "      <td>1</td>\n",
       "    </tr>\n",
       "    <tr>\n",
       "      <th>14480</th>\n",
       "      <td>3999</td>\n",
       "      <td>45.445574</td>\n",
       "      <td>-75.165168</td>\n",
       "      <td>2</td>\n",
       "      <td>1</td>\n",
       "      <td>28</td>\n",
       "      <td>20</td>\n",
       "      <td>10</td>\n",
       "      <td>10</td>\n",
       "      <td>80</td>\n",
       "      <td>0</td>\n",
       "      <td>131397</td>\n",
       "      <td>1</td>\n",
       "    </tr>\n",
       "    <tr>\n",
       "      <th>14481</th>\n",
       "      <td>4000</td>\n",
       "      <td>45.436682</td>\n",
       "      <td>-75.152416</td>\n",
       "      <td>0</td>\n",
       "      <td>12</td>\n",
       "      <td>21</td>\n",
       "      <td>30</td>\n",
       "      <td>30</td>\n",
       "      <td>4</td>\n",
       "      <td>63</td>\n",
       "      <td>0</td>\n",
       "      <td>122015</td>\n",
       "      <td>1</td>\n",
       "    </tr>\n",
       "    <tr>\n",
       "      <th>14482</th>\n",
       "      <td>4000</td>\n",
       "      <td>45.436978</td>\n",
       "      <td>-75.153278</td>\n",
       "      <td>0</td>\n",
       "      <td>12</td>\n",
       "      <td>31</td>\n",
       "      <td>30</td>\n",
       "      <td>20</td>\n",
       "      <td>4</td>\n",
       "      <td>63</td>\n",
       "      <td>0</td>\n",
       "      <td>122015</td>\n",
       "      <td>1</td>\n",
       "    </tr>\n",
       "    <tr>\n",
       "      <th>14483</th>\n",
       "      <td>4000</td>\n",
       "      <td>45.436983</td>\n",
       "      <td>-75.153240</td>\n",
       "      <td>0</td>\n",
       "      <td>12</td>\n",
       "      <td>41</td>\n",
       "      <td>30</td>\n",
       "      <td>10</td>\n",
       "      <td>4</td>\n",
       "      <td>63</td>\n",
       "      <td>0</td>\n",
       "      <td>122015</td>\n",
       "      <td>1</td>\n",
       "    </tr>\n",
       "  </tbody>\n",
       "</table>\n",
       "<p>14484 rows × 13 columns</p>\n",
       "</div>"
      ],
      "text/plain": [
       "         ID   Latitude  Longitude  Day  Hour  Minute  Duration  RemainingTime  \\\n",
       "0         1  45.442142 -75.303369    1     4      13        40             40   \n",
       "1         1  45.442154 -75.304366    1     4      23        40             30   \n",
       "2         1  45.442104 -75.303963    1     4      33        40             20   \n",
       "3         1  45.441868 -75.303577    1     4      43        40             10   \n",
       "4         2  45.447727 -75.147722    2    15      49        30             30   \n",
       "...     ...        ...        ...  ...   ...     ...       ...            ...   \n",
       "14479  3999  45.445303 -75.165596    2     1      18        20             20   \n",
       "14480  3999  45.445574 -75.165168    2     1      28        20             10   \n",
       "14481  4000  45.436682 -75.152416    0    12      21        30             30   \n",
       "14482  4000  45.436978 -75.153278    0    12      31        30             20   \n",
       "14483  4000  45.436983 -75.153240    0    12      41        30             10   \n",
       "\n",
       "       Resources  Coverage  OnPeakHours  GridNumber  Ligitimacy  \n",
       "0              9        91            0      131380           1  \n",
       "1              9        91            0      131380           1  \n",
       "2              9        91            0      121996           1  \n",
       "3              9        91            0      121996           1  \n",
       "4              5        47            0      140784           1  \n",
       "...          ...       ...          ...         ...         ...  \n",
       "14479         10        80            0      131397           1  \n",
       "14480         10        80            0      131397           1  \n",
       "14481          4        63            0      122015           1  \n",
       "14482          4        63            0      122015           1  \n",
       "14483          4        63            0      122015           1  \n",
       "\n",
       "[14484 rows x 13 columns]"
      ]
     },
     "execution_count": 2,
     "metadata": {},
     "output_type": "execute_result"
    }
   ],
   "source": [
    "df = pd.read_csv('MCSDatasetNEXTCONLab.csv')\n",
    "df"
   ]
  },
  {
   "cell_type": "code",
   "execution_count": 3,
   "metadata": {},
   "outputs": [
    {
     "name": "stdout",
     "output_type": "stream",
     "text": [
      "<class 'pandas.core.frame.DataFrame'>\n",
      "RangeIndex: 14484 entries, 0 to 14483\n",
      "Data columns (total 13 columns):\n",
      " #   Column         Non-Null Count  Dtype  \n",
      "---  ------         --------------  -----  \n",
      " 0   ID             14484 non-null  int64  \n",
      " 1   Latitude       14484 non-null  float64\n",
      " 2   Longitude      14484 non-null  float64\n",
      " 3   Day            14484 non-null  int64  \n",
      " 4   Hour           14484 non-null  int64  \n",
      " 5   Minute         14484 non-null  int64  \n",
      " 6   Duration       14484 non-null  int64  \n",
      " 7   RemainingTime  14484 non-null  int64  \n",
      " 8   Resources      14484 non-null  int64  \n",
      " 9   Coverage       14484 non-null  int64  \n",
      " 10  OnPeakHours    14484 non-null  int64  \n",
      " 11  GridNumber     14484 non-null  int64  \n",
      " 12  Ligitimacy     14484 non-null  int64  \n",
      "dtypes: float64(2), int64(11)\n",
      "memory usage: 1.4 MB\n"
     ]
    }
   ],
   "source": [
    "df.info()"
   ]
  },
  {
   "cell_type": "code",
   "execution_count": 4,
   "metadata": {},
   "outputs": [],
   "source": [
    "df = abs(df)"
   ]
  },
  {
   "cell_type": "code",
   "execution_count": 5,
   "metadata": {},
   "outputs": [],
   "source": [
    "X, y = df.iloc[:, :-1].values, df.iloc[:, -1].values"
   ]
  },
  {
   "cell_type": "markdown",
   "metadata": {},
   "source": [
    "## Data Spliting 20% - 80%"
   ]
  },
  {
   "cell_type": "code",
   "execution_count": 6,
   "metadata": {},
   "outputs": [],
   "source": [
    "X_train, X_test, y_train, y_test = train_test_split(X, y, test_size=0.2, random_state=42)"
   ]
  },
  {
   "cell_type": "markdown",
   "metadata": {},
   "source": [
    "## Modeling the data using algorithms (AdaBoost, Random Forest, Naive Bayes)"
   ]
  },
  {
   "cell_type": "code",
   "execution_count": 7,
   "metadata": {
    "scrolled": false
   },
   "outputs": [
    {
     "name": "stdout",
     "output_type": "stream",
     "text": [
      "Using AdaBoostClassifier Algorithm\n",
      "============================\n",
      "Accuracy: 97.44563341387642%\n",
      "Classification Report: \n",
      "               precision    recall  f1-score   support\n",
      "\n",
      "           0       0.84      0.94      0.89       318\n",
      "           1       0.99      0.98      0.99      2579\n",
      "\n",
      "    accuracy                           0.97      2897\n",
      "   macro avg       0.92      0.96      0.94      2897\n",
      "weighted avg       0.98      0.97      0.98      2897\n",
      "\n"
     ]
    },
    {
     "data": {
      "image/png": "[encoded data removed]",
      "text/plain": [
       "<Figure size 432x288 with 2 Axes>"
      ]
     },
     "metadata": {
      "needs_background": "light"
     },
     "output_type": "display_data"
    },
    {
     "name": "stdout",
     "output_type": "stream",
     "text": [
      "Using RandomForestClassifier Algorithm\n",
      "============================\n",
      "Accuracy: 99.82740766309975%\n",
      "Classification Report: \n",
      "               precision    recall  f1-score   support\n",
      "\n",
      "           0       0.99      1.00      0.99       349\n",
      "           1       1.00      1.00      1.00      2548\n",
      "\n",
      "    accuracy                           1.00      2897\n",
      "   macro avg       0.99      1.00      1.00      2897\n",
      "weighted avg       1.00      1.00      1.00      2897\n",
      "\n"
     ]
    },
    {
     "data": {
      "image/png": "[encoded data removed]",
      "text/plain": [
       "<Figure size 432x288 with 2 Axes>"
      ]
     },
     "metadata": {
      "needs_background": "light"
     },
     "output_type": "display_data"
    },
    {
     "name": "stdout",
     "output_type": "stream",
     "text": [
      "Using MultinomialNB Algorithm\n",
      "============================\n",
      "Accuracy: 50.673110113910944%\n",
      "Classification Report: \n",
      "               precision    recall  f1-score   support\n",
      "\n",
      "           0       0.50      0.12      0.20      1429\n",
      "           1       0.51      0.88      0.64      1468\n",
      "\n",
      "    accuracy                           0.51      2897\n",
      "   macro avg       0.50      0.50      0.42      2897\n",
      "weighted avg       0.50      0.51      0.42      2897\n",
      "\n"
     ]
    },
    {
     "data": {
      "image/png": "[encoded data removed]",
      "text/plain": [
       "<Figure size 432x288 with 2 Axes>"
      ]
     },
     "metadata": {
      "needs_background": "light"
     },
     "output_type": "display_data"
    }
   ],
   "source": [
    "models = [\n",
    "    AdaBoostClassifier(n_estimators=100, random_state=0), \n",
    "    RandomForestClassifier(max_depth=20, random_state=0), \n",
    "    MultinomialNB()\n",
    "]\n",
    "\n",
    "estimators = []\n",
    "estsNames = []\n",
    "estsAccs = []\n",
    "labels = ['Fake Task', 'Legitimate Task']\n",
    "\n",
    "for model in models:\n",
    "    name = type(model).__name__\n",
    "    estsNames.append(name)\n",
    "    estimators.append((name, clone(model)))\n",
    "    model.fit(X_train, y_train)\n",
    "    y_predict = model.predict(X_test)\n",
    "    accVal = accuracy_score(y_predict, y_test) * 100\n",
    "    estsAccs.append(accVal)\n",
    "    print('Using {} Algorithm'.format(name))\n",
    "    print('============================')\n",
    "    print('Accuracy: {}%'.format(accVal))\n",
    "    print('Classification Report: \\n', classification_report(y_predict, y_test))\n",
    "    plot_confusion_matrix(model, X_test, y_test, display_labels=labels, values_format='d')\n",
    "    plt.show()\n",
    "# End For"
   ]
  },
  {
   "cell_type": "markdown",
   "metadata": {},
   "source": [
    "## Majority voting aggregation"
   ]
  },
  {
   "cell_type": "code",
   "execution_count": 8,
   "metadata": {},
   "outputs": [
    {
     "name": "stdout",
     "output_type": "stream",
     "text": [
      "Using VotingClassifier Algorithm\n",
      "============================\n",
      "Accuracy: 98.82637210907835%\n",
      "Classification Report: \n",
      "               precision    recall  f1-score   support\n",
      "\n",
      "           0       0.94      0.96      0.95       346\n",
      "           1       0.99      0.99      0.99      2551\n",
      "\n",
      "    accuracy                           0.99      2897\n",
      "   macro avg       0.97      0.98      0.97      2897\n",
      "weighted avg       0.99      0.99      0.99      2897\n",
      "\n"
     ]
    },
    {
     "data": {
      "image/png": "[encoded data removed]",
      "text/plain": [
       "<Figure size 432x288 with 2 Axes>"
      ]
     },
     "metadata": {
      "needs_background": "light"
     },
     "output_type": "display_data"
    }
   ],
   "source": [
    "model = VotingClassifier(estimators = estimators)\n",
    "name = type(model).__name__\n",
    "estsNames.append(name)\n",
    "estimators.append((name, clone(model)))\n",
    "model.fit(X_train, y_train)\n",
    "y_predict = model.predict(X_test)\n",
    "accVal = accuracy_score(y_predict, y_test) * 100\n",
    "estsAccs.append(accVal)\n",
    "print('Using {} Algorithm'.format(name))\n",
    "print('============================')\n",
    "print('Accuracy: {}%'.format(accVal))\n",
    "print('Classification Report: \\n', classification_report(y_predict, y_test))\n",
    "plot_confusion_matrix(model, X_test, y_test, display_labels=labels, values_format='d')\n",
    "plt.show()"
   ]
  },
  {
   "cell_type": "markdown",
   "metadata": {},
   "source": [
    "## Models Accuracy Plotting"
   ]
  },
  {
   "cell_type": "code",
   "execution_count": 9,
   "metadata": {},
   "outputs": [
    {
     "name": "stdout",
     "output_type": "stream",
     "text": [
      "-> The champion model is 'RandomForestClassifier'\n"
     ]
    },
    {
     "data": {
      "image/png": "[encoded data removed]",
      "text/plain": [
       "<Figure size 576x576 with 1 Axes>"
      ]
     },
     "metadata": {
      "needs_background": "light"
     },
     "output_type": "display_data"
    }
   ],
   "source": [
    "champModelId = np.argmax(estsAccs)\n",
    "print(\"-> The champion model is '{}'\".format(estsNames[champModelId]))\n",
    "plt.figure(figsize=(8,8))\n",
    "plt.axhline(y=estsAccs[champModelId], linewidth=1, color='k')\n",
    "plt.bar(estsNames, estsAccs, color=['#1f77b4', '#ff7f0e', '#1f77b4', '#1f77b4'])\n",
    "plt.show()"
   ]
  }
 ],
 "metadata": {
  "kernelspec": {
   "display_name": "Python 3",
   "language": "python",
   "name": "python3"
  },
  "language_info": {
   "codemirror_mode": {
    "name": "ipython",
    "version": 3
   },
   "file_extension": ".py",
   "mimetype": "text/x-python",
   "name": "python",
   "nbconvert_exporter": "python",
   "pygments_lexer": "ipython3",
   "version": "3.7.6"
  }
 },
 "nbformat": 4,
 "nbformat_minor": 4
}
